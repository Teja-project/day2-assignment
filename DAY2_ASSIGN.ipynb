{
  "nbformat": 4,
  "nbformat_minor": 0,
  "metadata": {
    "colab": {
      "name": "DAY2 ASSIGN",
      "provenance": []
    },
    "kernelspec": {
      "name": "python3",
      "display_name": "Python 3"
    },
    "language_info": {
      "name": "python"
    }
  },
  "cells": [
    {
      "cell_type": "code",
      "metadata": {
        "colab": {
          "base_uri": "https://localhost:8080/"
        },
        "id": "g0r3rH-_DBoL",
        "outputId": "fac5625e-0201-4cde-a01b-3c099ee57c16"
      },
      "source": [
        "#creating two lists\n",
        "list1 = [\"jockey\",\"oxo\",\"ramraj\",\"webo\"]\n",
        "list2 = [\"nike\",\"adidas\",\"RR\"]\n",
        "print(list1)\n",
        "print(list2)"
      ],
      "execution_count": 3,
      "outputs": [
        {
          "output_type": "stream",
          "text": [
            "['jockey', 'oxo', 'ramraj', 'webo']\n",
            "['nike', 'adidas', 'RR']\n"
          ],
          "name": "stdout"
        }
      ]
    },
    {
      "cell_type": "code",
      "metadata": {
        "colab": {
          "base_uri": "https://localhost:8080/"
        },
        "id": "OltkooygDfcm",
        "outputId": "fa913ae3-b857-4fdf-b3dd-d61640bf6816"
      },
      "source": [
        "#overlapping two lists\n",
        "l = list1+list2\n",
        "print(l)"
      ],
      "execution_count": 4,
      "outputs": [
        {
          "output_type": "stream",
          "text": [
            "['jockey', 'oxo', 'ramraj', 'webo', 'nike', 'adidas', 'RR']\n"
          ],
          "name": "stdout"
        }
      ]
    },
    {
      "cell_type": "code",
      "metadata": {
        "colab": {
          "base_uri": "https://localhost:8080/"
        },
        "id": "xvJ5wyteDkpd",
        "outputId": "7d776afa-fbcb-4210-9fe0-c1803e94b9be"
      },
      "source": [
        "#even numbers tasks\n",
        "for i in range(20,41,2):\n",
        "  print(i)"
      ],
      "execution_count": 5,
      "outputs": [
        {
          "output_type": "stream",
          "text": [
            "20\n",
            "22\n",
            "24\n",
            "26\n",
            "28\n",
            "30\n",
            "32\n",
            "34\n",
            "36\n",
            "38\n",
            "40\n"
          ],
          "name": "stdout"
        }
      ]
    }
  ]
}